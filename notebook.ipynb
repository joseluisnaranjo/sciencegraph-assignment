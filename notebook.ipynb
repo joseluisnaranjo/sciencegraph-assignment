{
 "cells": [
  {
   "cell_type": "markdown",
   "metadata": {},
   "source": [
    "# Instructions\n",
    "\n",
    "The assignment consists of three tasks:\n",
    "\n",
    "- Run the T-test for the means of two independent samples underlying the statement \"IRE binding activity was significantly reduced in failing hearts\" (originally published by Haddad et al. in https://doi.org/10.1093/eurheartj/ehw333) using the following example data.\n",
    "\n",
    "| non-failing heart (NF) | failing heart (F) |\n",
    "| ---------------------- | ----------------- |\n",
    "| 95 | 50 |\n",
    "| 103 | 35 |\n",
    "| 99 | 21 | \n",
    "| &nbsp; | 15 | \n",
    "| &nbsp; | 7 | \n",
    "| &nbsp; | 40 |\n",
    "\n",
    "- Describe the statistical hypothesis test in machine readable form following the [statistical methods ontology concept for \"two sample t-test with unequal variance\"](https://www.ebi.ac.uk/ols/ontologies/stato/terms?iri=http%3A%2F%2Fpurl.obolibrary.org%2Fobo%2FSTATO_0000304) using Semantic Web technologies, namely the Resource Description Framework (RDF)\n",
    "- Process the resulting machine readable description using Semantic Web technologies, namely the SPARQL Protocol and RDF Query Language.\n",
    "\n",
    "Please return the assignment with all outputs visible (i.e., do not clear the outputs).\n",
    "\n",
    "Good luck!"
   ]
  },
  {
   "cell_type": "code",
   "execution_count": 3,
   "metadata": {},
   "outputs": [
    {
     "name": "stdout",
     "output_type": "stream",
     "text": [
      "Requirement already satisfied: rdflib in c:\\users\\josel\\anaconda3\\lib\\site-packages (4.2.2)\n",
      "Requirement already satisfied: pandas in c:\\users\\josel\\anaconda3\\lib\\site-packages (0.24.2)\n",
      "Requirement already satisfied: scipy in c:\\users\\josel\\anaconda3\\lib\\site-packages (1.2.1)\n",
      "Requirement already satisfied: numpy in c:\\users\\josel\\anaconda3\\lib\\site-packages (1.16.2)\n",
      "Requirement already satisfied: pyparsing in c:\\users\\josel\\anaconda3\\lib\\site-packages (from rdflib) (2.3.1)\n",
      "Requirement already satisfied: isodate in c:\\users\\josel\\anaconda3\\lib\\site-packages (from rdflib) (0.6.0)\n",
      "Requirement already satisfied: pytz>=2011k in c:\\users\\josel\\anaconda3\\lib\\site-packages (from pandas) (2018.9)\n",
      "Requirement already satisfied: python-dateutil>=2.5.0 in c:\\users\\josel\\anaconda3\\lib\\site-packages (from pandas) (2.8.0)\n",
      "Requirement already satisfied: six in c:\\users\\josel\\anaconda3\\lib\\site-packages (from isodate->rdflib) (1.12.0)\n"
     ]
    }
   ],
   "source": [
    "!pip install rdflib pandas scipy numpy"
   ]
  },
  {
   "cell_type": "code",
   "execution_count": 4,
   "metadata": {},
   "outputs": [],
   "source": [
    "# Import all required libraries (some are missing)\n",
    "from rdflib import Graph, URIRef\n",
    "from rdflib.namespace import RDF\n",
    "import math\n",
    "import numpy as np"
   ]
  },
  {
   "cell_type": "code",
   "execution_count": 12,
   "metadata": {},
   "outputs": [
    {
     "name": "stdout",
     "output_type": "stream",
     "text": [
      "If IRE binding activity is significantly reduced then it can leads to  heart failure\n",
      "297\n",
      "168\n",
      "88209\n",
      "28224\n",
      "99.0\n",
      "28.0\n",
      "29435\n",
      "6040\n",
      "7.182560914224794\n",
      "5.318725263490542e-05\n",
      "The experiment shows that the data is normal, there is enough evidence to reject the null hypotesis at a confidence level of 95%  \n"
     ]
    }
   ],
   "source": [
    "# Run the T-test for the means of two independent samples using the example data\n",
    "print (\"If IRE binding activity is significantly reduced then it can leads to  heart failure\")\n",
    "# labels = nf(non-failing heart),  f(failing heart)\n",
    "# data = ...\n",
    "nf = [95, 103, 99]\n",
    "f = [50,35,21,15,7,40]\n",
    "\n",
    "#step 1: Sum up the elements of each data set\n",
    "nfSum = sum(nf)\n",
    "fSum = sum(f)\n",
    "print (nfSum)\n",
    "print (fSum)\n",
    "\n",
    "#steep 2: Square the sums of step 1\n",
    "nfSSquare = np.square(nfSum)\n",
    "fSSquare= np.square(fSum)\n",
    "print (nfSSquare)\n",
    "print (fSSquare)\n",
    "\n",
    "#step 3: Calculate the means of each data set\n",
    "nfNElements = len(nf)\n",
    "fNElements = len(f)\n",
    "nfMean = nfSum / float(nfNElements)\n",
    "fMean = fSum / float(fNElements)\n",
    "print (nfMean)\n",
    "print (fMean)\n",
    "\n",
    "#step 4: Sume the squares of each data set element\n",
    "nf2 = np.square(nf)\n",
    "f2= np.square(f)\n",
    "nfSSum= sum (nf2)\n",
    "fSSum = sum(f2)\n",
    "print (nfSSum)\n",
    "print (fSSum)\n",
    "\n",
    "#step 5: calculation of t\n",
    "t = (nfMean -fMean)/float (math.sqrt(((((nfSSum)-((nfSSquare)/float(nfNElements)))+((fSSum)-((fSSquare)/float(fNElements))))/float((nfNElements +fNElements -2)))*((1/float(nfNElements))+(1/float(fNElements)))))\n",
    "print (t)\n",
    "\n",
    "# computing the degrees of freedom\n",
    "##dFree =(nfNElements-1)+(fNElements-1)\n",
    "#The confidence level is 95% which leads to an alfa value of 0.05( optimun value to avoid error I and II)\n",
    "##pValue = 1.895 #taken from T-table\n",
    "# Print the p-value\n",
    "ttest = ttest_ind ( nf , f , axis=0, equal_var = False )\n",
    "pValue = ttest.pvalue\n",
    "print (pValue)\n",
    "\n",
    "if (t<pValue):\n",
    "    print (\"The experiment shows that the data is normal, failing to reject the null hypothesis at a confidence level of 95%\")\n",
    "else:\n",
    "    print (\"The experiment shows that the data is normal, there is enough evidence to reject the null hypotesis at a confidence level of 95%  \")"
   ]
  },
  {
   "cell_type": "code",
   "execution_count": 63,
   "metadata": {
    "scrolled": true
   },
   "outputs": [
    {
     "name": "stdout",
     "output_type": "stream",
     "text": [
      "b'<?xml version=\"1.0\" encoding=\"UTF-8\"?>\\n<rdf:RDF\\n   xmlns:obo=\"http://purl.obolibrary.org/obo/\"\\n   xmlns:rdf=\"http://www.w3.org/1999/02/22-rdf-syntax-ns#\"\\n>\\n  <rdf:Description rdf:nodeID=\"Nf03c7668af174a7e8061d2a191ce95af\">\\n    <obo:OBI_0001937>1</obo:OBI_0001937>\\n    <rdf:type rdf:resource=\"http://purl.obolibrary.org/obo/OBI_0001931\"/>\\n  </rdf:Description>\\n  <rdf:Description rdf:nodeID=\"Naaa5951003c84ee4910d0ddf983a1827\">\\n    <obo:OBI_0000299 rdf:nodeID=\"Nf3f928765ba04a64baea6d3bbd6f287f\"/>\\n    <rdf:type rdf:resource=\"http://purl.obolibrary.org/obo/STATO_0000304\"/>\\n    <obo:OBI_0000293 rdf:nodeID=\"Nfabfd4099946475ca0941363cca320a3\"/>\\n  </rdf:Description>\\n  <rdf:Description rdf:nodeID=\"Nfabfd4099946475ca0941363cca320a3\">\\n    <rdf:type rdf:resource=\"http://purl.obolibrary.org/obo/GO_0030350\"/>\\n  </rdf:Description>\\n  <rdf:Description rdf:nodeID=\"Nf3f928765ba04a64baea6d3bbd6f287f\">\\n    <obo:OBI_0001938 rdf:nodeID=\"Nf03c7668af174a7e8061d2a191ce95af\"/>\\n    <rdf:type rdf:resource=\"http://purl.obolibrary.org/obo/OBI_0000175\"/>\\n  </rdf:Description>\\n</rdf:RDF>\\n'\n"
     ]
    }
   ],
   "source": [
    "# Describe the statistical hypothesis test in machine readable form\n",
    "\n",
    "# First, we initialize an RDF Graph and bind some prefixes\n",
    "g = Graph()\n",
    "g.bind('obo', 'http://purl.obolibrary.org/obo/')\n",
    "g.bind('ex', 'http://example.org/')\n",
    "\n",
    "# Next, we define some needed vocabulary\n",
    "obo = dict()\n",
    "obo['two sample t-test with unequal variance'] = URIRef('http://purl.obolibrary.org/obo/STATO_0000304')\n",
    "obo['has specified input'] = URIRef('http://purl.obolibrary.org/obo/OBI_0000293')\n",
    "obo['has specified output'] = URIRef('http://purl.obolibrary.org/obo/OBI_0000299')\n",
    "obo['p-value'] = URIRef('http://purl.obolibrary.org/obo/OBI_0000175')\n",
    "obo['has value specification'] = URIRef('http://purl.obolibrary.org/obo/OBI_0001938')\n",
    "obo['scalar value specification'] = URIRef('http://purl.obolibrary.org/obo/OBI_0001931')\n",
    "obo['has specified numeric value'] = URIRef('http://purl.obolibrary.org/obo/OBI_0001937')\n",
    "obo['iron-responsive element binding'] = URIRef('http://purl.obolibrary.org/obo/GO_0030350')\n",
    "\n",
    "# Now, populate the graph with statements\n",
    "# As an example, the following statement types the resource (blank node) 'n1' as 'two sample t-test with unequal variance'\n",
    "n1 = BNode()\n",
    "g.add((n1, RDF.type, obo['two sample t-test with unequal variance']))\n",
    "\n",
    "# Now, state that the t-test has iron-responsive element binding as a specified input (one statement to complete)\n",
    "n2 = BNode()\n",
    "g.add((n1, obo['has specified input'], n2))\n",
    "g.add((n2, RDF.type, obo['iron-responsive element binding']))\n",
    "\n",
    "# Next, state that the t-test has the p-value computed above as a specified output (two statements to complete)\n",
    "n3 = BNode()\n",
    "g.add((n1, obo['has specified output'], n3))\n",
    "g.add((n3, RDF.type, obo['p-value']))\n",
    "\n",
    "# The literal value of the p-value is represented as a scalar value specification with a specified numeric value (three statements to complete)\n",
    "n4 = BNode()\n",
    "g.add((n3, obo['has value specification'], n4))\n",
    "g.add((n4, RDF.type, obo['scalar value specification']))\n",
    "# Type the literal as double\n",
    "g.add((n4, obo['has specified numeric value'], Literal(\"5.31872\")))\n",
    "\n",
    "# Finally, serialize and print the graph in RDF/XML format\n",
    "print( g.serialize(format='application/rdf+xml') )\n"
   ]
  },
  {
   "cell_type": "code",
   "execution_count": 14,
   "metadata": {},
   "outputs": [
    {
     "ename": "NameError",
     "evalue": "name 'g' is not defined",
     "output_type": "error",
     "traceback": [
      "\u001b[1;31m---------------------------------------------------------------------------\u001b[0m",
      "\u001b[1;31mNameError\u001b[0m                                 Traceback (most recent call last)",
      "\u001b[1;32m<ipython-input-14-e7bce73df214>\u001b[0m in \u001b[0;36m<module>\u001b[1;34m\u001b[0m\n\u001b[0;32m     14\u001b[0m \"\"\"\n\u001b[0;32m     15\u001b[0m \u001b[1;33m\u001b[0m\u001b[0m\n\u001b[1;32m---> 16\u001b[1;33m \u001b[1;32mfor\u001b[0m \u001b[0mqs\u001b[0m \u001b[1;32min\u001b[0m \u001b[0mg\u001b[0m\u001b[1;33m.\u001b[0m\u001b[0mquery\u001b[0m\u001b[1;33m(\u001b[0m\u001b[0mq\u001b[0m\u001b[1;33m)\u001b[0m\u001b[1;33m:\u001b[0m\u001b[1;33m\u001b[0m\u001b[1;33m\u001b[0m\u001b[0m\n\u001b[0m\u001b[0;32m     17\u001b[0m     \u001b[0mprint\u001b[0m\u001b[1;33m(\u001b[0m\u001b[0mqs\u001b[0m\u001b[1;33m[\u001b[0m\u001b[1;36m0\u001b[0m\u001b[1;33m]\u001b[0m\u001b[1;33m)\u001b[0m\u001b[1;33m\u001b[0m\u001b[1;33m\u001b[0m\u001b[0m\n",
      "\u001b[1;31mNameError\u001b[0m: name 'g' is not defined"
     ]
    }
   ],
   "source": [
    "# Process the machine readable statistical hypothesis test by completing the following SPARQL query that returns the p-value\n",
    "\n",
    "q = \"\"\"\n",
    "PREFIX obo: <http://purl.obolibrary.org/obo/>\n",
    "\n",
    "SELECT ?pvalue WHERE {\n",
    "  ?r a obo:STATO_0000304 .\n",
    "  ?r obo:OBI_0000293 [ a obo:GO_0030350 ] .\n",
    "  ?r obo:OBI_0000299 ?b .\n",
    "  ?b a obo:OBI_0000175 .\n",
    "  ?b a obo:OBI_0001938 .\n",
    "  ?b ?pvalue obo:OBI_0001937.                   \n",
    "}\n",
    "\"\"\"\n",
    "\n",
    "for qs in g.query(q):\n",
    "    print(qs[0])"
   ]
  },
  {
   "cell_type": "code",
   "execution_count": null,
   "metadata": {},
   "outputs": [],
   "source": []
  }
 ],
 "metadata": {
  "kernelspec": {
   "display_name": "Python 3",
   "language": "python",
   "name": "python3"
  },
  "language_info": {
   "codemirror_mode": {
    "name": "ipython",
    "version": 3
   },
   "file_extension": ".py",
   "mimetype": "text/x-python",
   "name": "python",
   "nbconvert_exporter": "python",
   "pygments_lexer": "ipython3",
   "version": "3.7.3"
  }
 },
 "nbformat": 4,
 "nbformat_minor": 2
}
